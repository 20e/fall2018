{
 "cells": [
  {
   "cell_type": "code",
   "execution_count": 1,
   "metadata": {},
   "outputs": [],
   "source": [
    "import traitlets"
   ]
  },
  {
   "cell_type": "code",
   "execution_count": 28,
   "metadata": {},
   "outputs": [],
   "source": [
    "class MyObject(traitlets.HasTraits):\n",
    "    name = traitlets.Unicode()\n",
    "    age = traitlets.Int()"
   ]
  },
  {
   "cell_type": "code",
   "execution_count": 38,
   "metadata": {},
   "outputs": [],
   "source": [
    "weezer = MyObject(name = \"Weezer\", age = 26)"
   ]
  },
  {
   "cell_type": "code",
   "execution_count": 39,
   "metadata": {},
   "outputs": [
    {
     "data": {
      "text/plain": [
       "'Weezer'"
      ]
     },
     "execution_count": 39,
     "metadata": {},
     "output_type": "execute_result"
    }
   ],
   "source": [
    "weezer.name"
   ]
  },
  {
   "cell_type": "code",
   "execution_count": 40,
   "metadata": {},
   "outputs": [],
   "source": [
    "def name_changed(change):\n",
    "    print(change['old'], ' becomes ', change['new'])"
   ]
  },
  {
   "cell_type": "code",
   "execution_count": 43,
   "metadata": {},
   "outputs": [],
   "source": [
    "weezer.observe(name_changed, ['name', 'age'])"
   ]
  },
  {
   "cell_type": "code",
   "execution_count": 44,
   "metadata": {},
   "outputs": [
    {
     "name": "stdout",
     "output_type": "stream",
     "text": [
      "26  becomes  10\n"
     ]
    }
   ],
   "source": [
    "weezer.age = 10"
   ]
  },
  {
   "cell_type": "code",
   "execution_count": 45,
   "metadata": {},
   "outputs": [
    {
     "name": "stdout",
     "output_type": "stream",
     "text": [
      "Nerf Herder  becomes  something\n"
     ]
    }
   ],
   "source": [
    "weezer.name = 'something'"
   ]
  },
  {
   "cell_type": "code",
   "execution_count": 46,
   "metadata": {},
   "outputs": [],
   "source": [
    "import ipywidgets"
   ]
  },
  {
   "cell_type": "code",
   "execution_count": 47,
   "metadata": {},
   "outputs": [
    {
     "data": {
      "application/vnd.jupyter.widget-view+json": {
       "model_id": "3fe3ea64cae1433cba1725bcc9e24788",
       "version_major": 2,
       "version_minor": 0
      },
      "text/html": [
       "<p>Failed to display Jupyter Widget of type <code>interactive</code>.</p>\n",
       "<p>\n",
       "  If you're reading this message in the Jupyter Notebook or JupyterLab Notebook, it may mean\n",
       "  that the widgets JavaScript is still loading. If this message persists, it\n",
       "  likely means that the widgets JavaScript library is either not installed or\n",
       "  not enabled. See the <a href=\"https://ipywidgets.readthedocs.io/en/stable/user_install.html\">Jupyter\n",
       "  Widgets Documentation</a> for setup instructions.\n",
       "</p>\n",
       "<p>\n",
       "  If you're reading this message in another frontend (for example, a static\n",
       "  rendering on GitHub or <a href=\"https://nbviewer.jupyter.org/\">NBViewer</a>),\n",
       "  it may mean that your frontend doesn't currently support widgets.\n",
       "</p>\n"
      ],
      "text/plain": [
       "interactive(children=(Dropdown(description='name', options=('Weezer', 'Nerf Herder', 'Mustard Plug'), value='Weezer'), Output()), _dom_classes=('widget-interact',))"
      ]
     },
     "metadata": {},
     "output_type": "display_data"
    }
   ],
   "source": [
    "@ipywidgets.interact(name = ['Weezer', 'Nerf Herder', 'Mustard Plug'])\n",
    "def print_bandname(name):\n",
    "    print(name)"
   ]
  },
  {
   "cell_type": "code",
   "execution_count": 59,
   "metadata": {},
   "outputs": [
    {
     "data": {
      "application/vnd.jupyter.widget-view+json": {
       "model_id": "8fac7d3abbd84738909611122217cd4d",
       "version_major": 2,
       "version_minor": 0
      },
      "text/html": [
       "<p>Failed to display Jupyter Widget of type <code>interactive</code>.</p>\n",
       "<p>\n",
       "  If you're reading this message in the Jupyter Notebook or JupyterLab Notebook, it may mean\n",
       "  that the widgets JavaScript is still loading. If this message persists, it\n",
       "  likely means that the widgets JavaScript library is either not installed or\n",
       "  not enabled. See the <a href=\"https://ipywidgets.readthedocs.io/en/stable/user_install.html\">Jupyter\n",
       "  Widgets Documentation</a> for setup instructions.\n",
       "</p>\n",
       "<p>\n",
       "  If you're reading this message in another frontend (for example, a static\n",
       "  rendering on GitHub or <a href=\"https://nbviewer.jupyter.org/\">NBViewer</a>),\n",
       "  it may mean that your frontend doesn't currently support widgets.\n",
       "</p>\n"
      ],
      "text/plain": [
       "interactive(children=(FloatSlider(value=15.5, description='num', max=30.0, min=1.0, step=0.5), Dropdown(description='name', options=('hi', 'there'), value='hi'), Text(value='my name', description='value'), Output()), _dom_classes=('widget-interact',))"
      ]
     },
     "metadata": {},
     "output_type": "display_data"
    }
   ],
   "source": [
    "@ipywidgets.interact(num = (1., 30., .5), name = ['hi', 'there'], value = 'my name')\n",
    "def print_bandname(num, name, value):\n",
    "    print(num, name)"
   ]
  },
  {
   "cell_type": "code",
   "execution_count": 60,
   "metadata": {},
   "outputs": [],
   "source": [
    "ip = ipywidgets.IntProgress()"
   ]
  },
  {
   "cell_type": "code",
   "execution_count": 61,
   "metadata": {},
   "outputs": [
    {
     "data": {
      "application/vnd.jupyter.widget-view+json": {
       "model_id": "d9c1e993c09748ba8398a2bd432c061a",
       "version_major": 2,
       "version_minor": 0
      },
      "text/html": [
       "<p>Failed to display Jupyter Widget of type <code>IntProgress</code>.</p>\n",
       "<p>\n",
       "  If you're reading this message in the Jupyter Notebook or JupyterLab Notebook, it may mean\n",
       "  that the widgets JavaScript is still loading. If this message persists, it\n",
       "  likely means that the widgets JavaScript library is either not installed or\n",
       "  not enabled. See the <a href=\"https://ipywidgets.readthedocs.io/en/stable/user_install.html\">Jupyter\n",
       "  Widgets Documentation</a> for setup instructions.\n",
       "</p>\n",
       "<p>\n",
       "  If you're reading this message in another frontend (for example, a static\n",
       "  rendering on GitHub or <a href=\"https://nbviewer.jupyter.org/\">NBViewer</a>),\n",
       "  it may mean that your frontend doesn't currently support widgets.\n",
       "</p>\n"
      ],
      "text/plain": [
       "IntProgress(value=0)"
      ]
     },
     "metadata": {},
     "output_type": "display_data"
    }
   ],
   "source": [
    "display(ip)"
   ]
  },
  {
   "cell_type": "code",
   "execution_count": 68,
   "metadata": {},
   "outputs": [],
   "source": [
    "slider = ipywidgets.FloatRangeSlider(value = 0.0, min = 0.0, max = 1.0, step = 0.01)"
   ]
  },
  {
   "cell_type": "code",
   "execution_count": 69,
   "metadata": {},
   "outputs": [
    {
     "data": {
      "application/vnd.jupyter.widget-view+json": {
       "model_id": "628503bbfd724b2d99f92600644ff925",
       "version_major": 2,
       "version_minor": 0
      },
      "text/html": [
       "<p>Failed to display Jupyter Widget of type <code>FloatRangeSlider</code>.</p>\n",
       "<p>\n",
       "  If you're reading this message in the Jupyter Notebook or JupyterLab Notebook, it may mean\n",
       "  that the widgets JavaScript is still loading. If this message persists, it\n",
       "  likely means that the widgets JavaScript library is either not installed or\n",
       "  not enabled. See the <a href=\"https://ipywidgets.readthedocs.io/en/stable/user_install.html\">Jupyter\n",
       "  Widgets Documentation</a> for setup instructions.\n",
       "</p>\n",
       "<p>\n",
       "  If you're reading this message in another frontend (for example, a static\n",
       "  rendering on GitHub or <a href=\"https://nbviewer.jupyter.org/\">NBViewer</a>),\n",
       "  it may mean that your frontend doesn't currently support widgets.\n",
       "</p>\n"
      ],
      "text/plain": [
       "FloatRangeSlider(value=(0.25, 0.75), max=1.0, step=0.01)"
      ]
     },
     "metadata": {},
     "output_type": "display_data"
    }
   ],
   "source": [
    "display(slider)"
   ]
  },
  {
   "cell_type": "code",
   "execution_count": 74,
   "metadata": {},
   "outputs": [
    {
     "data": {
      "text/plain": [
       "(0.14, 0.84)"
      ]
     },
     "execution_count": 74,
     "metadata": {},
     "output_type": "execute_result"
    }
   ],
   "source": [
    "slider.value"
   ]
  },
  {
   "cell_type": "code",
   "execution_count": 76,
   "metadata": {},
   "outputs": [],
   "source": [
    "ta = ipywidgets.Textarea(value = \"enter something here\")"
   ]
  },
  {
   "cell_type": "code",
   "execution_count": 77,
   "metadata": {},
   "outputs": [
    {
     "data": {
      "application/vnd.jupyter.widget-view+json": {
       "model_id": "a9b21ff0a8814a839714474917d23ad1",
       "version_major": 2,
       "version_minor": 0
      },
      "text/html": [
       "<p>Failed to display Jupyter Widget of type <code>Textarea</code>.</p>\n",
       "<p>\n",
       "  If you're reading this message in the Jupyter Notebook or JupyterLab Notebook, it may mean\n",
       "  that the widgets JavaScript is still loading. If this message persists, it\n",
       "  likely means that the widgets JavaScript library is either not installed or\n",
       "  not enabled. See the <a href=\"https://ipywidgets.readthedocs.io/en/stable/user_install.html\">Jupyter\n",
       "  Widgets Documentation</a> for setup instructions.\n",
       "</p>\n",
       "<p>\n",
       "  If you're reading this message in another frontend (for example, a static\n",
       "  rendering on GitHub or <a href=\"https://nbviewer.jupyter.org/\">NBViewer</a>),\n",
       "  it may mean that your frontend doesn't currently support widgets.\n",
       "</p>\n"
      ],
      "text/plain": [
       "Textarea(value='enter something here')"
      ]
     },
     "metadata": {},
     "output_type": "display_data"
    }
   ],
   "source": [
    "display(ta)"
   ]
  },
  {
   "cell_type": "code",
   "execution_count": 78,
   "metadata": {},
   "outputs": [
    {
     "data": {
      "text/plain": [
       "'enter something here ok'"
      ]
     },
     "execution_count": 78,
     "metadata": {},
     "output_type": "execute_result"
    }
   ],
   "source": [
    "ta.value"
   ]
  },
  {
   "cell_type": "code",
   "execution_count": 79,
   "metadata": {},
   "outputs": [],
   "source": [
    "ta.value = \"I am overriding!\""
   ]
  },
  {
   "cell_type": "code",
   "execution_count": 80,
   "metadata": {},
   "outputs": [],
   "source": [
    "ta1 = ipywidgets.Textarea(\"Hi, this is box 1\")\n",
    "ta2 = ipywidgets.Textarea(\"Hi, this is box 2\")\n",
    "ta3 = ipywidgets.Textarea(\"Hi, this is box 3\")\n",
    "ta4 = ipywidgets.Textarea(\"Hi, this is box 4\")"
   ]
  },
  {
   "cell_type": "code",
   "execution_count": 82,
   "metadata": {},
   "outputs": [],
   "source": [
    "tabs = ipywidgets.Tab(children = [ta1, ta2, ta3, ta4])"
   ]
  },
  {
   "cell_type": "code",
   "execution_count": 83,
   "metadata": {},
   "outputs": [
    {
     "data": {
      "application/vnd.jupyter.widget-view+json": {
       "model_id": "726d1fddd60c45c9bc7f81d0e0fc9370",
       "version_major": 2,
       "version_minor": 0
      },
      "text/html": [
       "<p>Failed to display Jupyter Widget of type <code>Tab</code>.</p>\n",
       "<p>\n",
       "  If you're reading this message in the Jupyter Notebook or JupyterLab Notebook, it may mean\n",
       "  that the widgets JavaScript is still loading. If this message persists, it\n",
       "  likely means that the widgets JavaScript library is either not installed or\n",
       "  not enabled. See the <a href=\"https://ipywidgets.readthedocs.io/en/stable/user_install.html\">Jupyter\n",
       "  Widgets Documentation</a> for setup instructions.\n",
       "</p>\n",
       "<p>\n",
       "  If you're reading this message in another frontend (for example, a static\n",
       "  rendering on GitHub or <a href=\"https://nbviewer.jupyter.org/\">NBViewer</a>),\n",
       "  it may mean that your frontend doesn't currently support widgets.\n",
       "</p>\n"
      ],
      "text/plain": [
       "Tab(children=(Textarea(value='Hi, this is box 1'), Textarea(value='Hi, this is box 2'), Textarea(value='Hi, this is box 3'), Textarea(value='Hi, this is box 4')))"
      ]
     },
     "metadata": {},
     "output_type": "display_data"
    }
   ],
   "source": [
    "display(tabs)"
   ]
  },
  {
   "cell_type": "code",
   "execution_count": 88,
   "metadata": {},
   "outputs": [
    {
     "data": {
      "application/vnd.jupyter.widget-view+json": {
       "model_id": "a8ec765e90084ddab6960278bb43fbc4",
       "version_major": 2,
       "version_minor": 0
      },
      "text/html": [
       "<p>Failed to display Jupyter Widget of type <code>HBox</code>.</p>\n",
       "<p>\n",
       "  If you're reading this message in the Jupyter Notebook or JupyterLab Notebook, it may mean\n",
       "  that the widgets JavaScript is still loading. If this message persists, it\n",
       "  likely means that the widgets JavaScript library is either not installed or\n",
       "  not enabled. See the <a href=\"https://ipywidgets.readthedocs.io/en/stable/user_install.html\">Jupyter\n",
       "  Widgets Documentation</a> for setup instructions.\n",
       "</p>\n",
       "<p>\n",
       "  If you're reading this message in another frontend (for example, a static\n",
       "  rendering on GitHub or <a href=\"https://nbviewer.jupyter.org/\">NBViewer</a>),\n",
       "  it may mean that your frontend doesn't currently support widgets.\n",
       "</p>\n"
      ],
      "text/plain": [
       "HBox(children=(Textarea(value='Hi, this is box 1'), Textarea(value='Hi, this is box 2'), Textarea(value='Hi, this is box 3'), Textarea(value='Hi, this is box 4')))"
      ]
     },
     "metadata": {},
     "output_type": "display_data"
    }
   ],
   "source": [
    "ipywidgets.HBox([ta1, ta2, ta3, ta4])"
   ]
  },
  {
   "cell_type": "code",
   "execution_count": 90,
   "metadata": {},
   "outputs": [
    {
     "data": {
      "application/vnd.jupyter.widget-view+json": {
       "model_id": "0a31c6966d6c4484953e49520a768252",
       "version_major": 2,
       "version_minor": 0
      },
      "text/html": [
       "<p>Failed to display Jupyter Widget of type <code>VBox</code>.</p>\n",
       "<p>\n",
       "  If you're reading this message in the Jupyter Notebook or JupyterLab Notebook, it may mean\n",
       "  that the widgets JavaScript is still loading. If this message persists, it\n",
       "  likely means that the widgets JavaScript library is either not installed or\n",
       "  not enabled. See the <a href=\"https://ipywidgets.readthedocs.io/en/stable/user_install.html\">Jupyter\n",
       "  Widgets Documentation</a> for setup instructions.\n",
       "</p>\n",
       "<p>\n",
       "  If you're reading this message in another frontend (for example, a static\n",
       "  rendering on GitHub or <a href=\"https://nbviewer.jupyter.org/\">NBViewer</a>),\n",
       "  it may mean that your frontend doesn't currently support widgets.\n",
       "</p>\n"
      ],
      "text/plain": [
       "VBox(children=(HBox(children=(Textarea(value='Hi, this is box 1'), Textarea(value='Hi, this is box 2'))), HBox(children=(Textarea(value='Hi, this is box 3'), Textarea(value='Hi, this is box 4')))))"
      ]
     },
     "metadata": {},
     "output_type": "display_data"
    }
   ],
   "source": [
    "ipywidgets.VBox([ ipywidgets.HBox([ta1, ta2]), ipywidgets.HBox([ta3, ta4]) ])"
   ]
  },
  {
   "cell_type": "code",
   "execution_count": 91,
   "metadata": {},
   "outputs": [],
   "source": [
    "ta1.value = \"NOTHING TO SEE HERE\""
   ]
  },
  {
   "cell_type": "code",
   "execution_count": 92,
   "metadata": {},
   "outputs": [],
   "source": [
    "acc = ipywidgets.Accordion(children = [ta1, ta2, ta3, ta4])"
   ]
  },
  {
   "cell_type": "code",
   "execution_count": 93,
   "metadata": {},
   "outputs": [
    {
     "data": {
      "application/vnd.jupyter.widget-view+json": {
       "model_id": "a0a16d01cd354bc9840c4edc09c7ab9f",
       "version_major": 2,
       "version_minor": 0
      },
      "text/html": [
       "<p>Failed to display Jupyter Widget of type <code>Accordion</code>.</p>\n",
       "<p>\n",
       "  If you're reading this message in the Jupyter Notebook or JupyterLab Notebook, it may mean\n",
       "  that the widgets JavaScript is still loading. If this message persists, it\n",
       "  likely means that the widgets JavaScript library is either not installed or\n",
       "  not enabled. See the <a href=\"https://ipywidgets.readthedocs.io/en/stable/user_install.html\">Jupyter\n",
       "  Widgets Documentation</a> for setup instructions.\n",
       "</p>\n",
       "<p>\n",
       "  If you're reading this message in another frontend (for example, a static\n",
       "  rendering on GitHub or <a href=\"https://nbviewer.jupyter.org/\">NBViewer</a>),\n",
       "  it may mean that your frontend doesn't currently support widgets.\n",
       "</p>\n"
      ],
      "text/plain": [
       "Accordion(children=(Textarea(value='NOTHING TO SEE HERE'), Textarea(value='Hi, this is \\nthis is changing.  i feel weird'), Textarea(value='Hi, this is box 3'), Textarea(value='Hi, this is box 4')))"
      ]
     },
     "metadata": {},
     "output_type": "display_data"
    }
   ],
   "source": [
    "display(acc)"
   ]
  },
  {
   "cell_type": "code",
   "execution_count": 94,
   "metadata": {},
   "outputs": [],
   "source": [
    "weezer = MyObject(name = \"Weezer\", age = 26)"
   ]
  },
  {
   "cell_type": "code",
   "execution_count": 96,
   "metadata": {},
   "outputs": [],
   "source": [
    "label = ipywidgets.Label(\"[band name here]\")"
   ]
  },
  {
   "cell_type": "code",
   "execution_count": 97,
   "metadata": {},
   "outputs": [
    {
     "data": {
      "application/vnd.jupyter.widget-view+json": {
       "model_id": "9b1c364946d742f3abdbfc8e503c3055",
       "version_major": 2,
       "version_minor": 0
      },
      "text/html": [
       "<p>Failed to display Jupyter Widget of type <code>Label</code>.</p>\n",
       "<p>\n",
       "  If you're reading this message in the Jupyter Notebook or JupyterLab Notebook, it may mean\n",
       "  that the widgets JavaScript is still loading. If this message persists, it\n",
       "  likely means that the widgets JavaScript library is either not installed or\n",
       "  not enabled. See the <a href=\"https://ipywidgets.readthedocs.io/en/stable/user_install.html\">Jupyter\n",
       "  Widgets Documentation</a> for setup instructions.\n",
       "</p>\n",
       "<p>\n",
       "  If you're reading this message in another frontend (for example, a static\n",
       "  rendering on GitHub or <a href=\"https://nbviewer.jupyter.org/\">NBViewer</a>),\n",
       "  it may mean that your frontend doesn't currently support widgets.\n",
       "</p>\n"
      ],
      "text/plain": [
       "Label(value='[band name here]')"
      ]
     },
     "metadata": {},
     "output_type": "display_data"
    }
   ],
   "source": [
    "display(label)"
   ]
  },
  {
   "cell_type": "code",
   "execution_count": 98,
   "metadata": {},
   "outputs": [],
   "source": [
    "label.value = \"something else\""
   ]
  },
  {
   "cell_type": "code",
   "execution_count": 99,
   "metadata": {},
   "outputs": [
    {
     "data": {
      "text/plain": [
       "<traitlets.traitlets.link at 0x7f9036f0d7b8>"
      ]
     },
     "execution_count": 99,
     "metadata": {},
     "output_type": "execute_result"
    }
   ],
   "source": [
    "ipywidgets.link((weezer, 'name'), (label, 'value'))"
   ]
  },
  {
   "cell_type": "code",
   "execution_count": 100,
   "metadata": {},
   "outputs": [],
   "source": [
    "weezer.name = 'Nerf Herder'"
   ]
  },
  {
   "cell_type": "code",
   "execution_count": 101,
   "metadata": {},
   "outputs": [],
   "source": [
    "label.value = 'not that'"
   ]
  },
  {
   "cell_type": "code",
   "execution_count": 102,
   "metadata": {},
   "outputs": [
    {
     "data": {
      "text/plain": [
       "'not that'"
      ]
     },
     "execution_count": 102,
     "metadata": {},
     "output_type": "execute_result"
    }
   ],
   "source": [
    "weezer.name"
   ]
  },
  {
   "cell_type": "code",
   "execution_count": 103,
   "metadata": {},
   "outputs": [],
   "source": [
    "label = ipywidgets.Label(\"Value is: \")"
   ]
  },
  {
   "cell_type": "code",
   "execution_count": 105,
   "metadata": {},
   "outputs": [],
   "source": [
    "button = ipywidgets.Button(description = \"Randomize\")"
   ]
  },
  {
   "cell_type": "code",
   "execution_count": 106,
   "metadata": {},
   "outputs": [],
   "source": [
    "import numpy as np"
   ]
  },
  {
   "cell_type": "code",
   "execution_count": 107,
   "metadata": {},
   "outputs": [],
   "source": [
    "def update_label(event):\n",
    "    label.value = \"Value is: %s\" % (np.random.random(1))"
   ]
  },
  {
   "cell_type": "code",
   "execution_count": 108,
   "metadata": {},
   "outputs": [],
   "source": [
    "button.on_click(update_label)"
   ]
  },
  {
   "cell_type": "code",
   "execution_count": 109,
   "metadata": {},
   "outputs": [
    {
     "data": {
      "application/vnd.jupyter.widget-view+json": {
       "model_id": "b4dad2f30e2f4242a92571f03d0f3b44",
       "version_major": 2,
       "version_minor": 0
      },
      "text/html": [
       "<p>Failed to display Jupyter Widget of type <code>VBox</code>.</p>\n",
       "<p>\n",
       "  If you're reading this message in the Jupyter Notebook or JupyterLab Notebook, it may mean\n",
       "  that the widgets JavaScript is still loading. If this message persists, it\n",
       "  likely means that the widgets JavaScript library is either not installed or\n",
       "  not enabled. See the <a href=\"https://ipywidgets.readthedocs.io/en/stable/user_install.html\">Jupyter\n",
       "  Widgets Documentation</a> for setup instructions.\n",
       "</p>\n",
       "<p>\n",
       "  If you're reading this message in another frontend (for example, a static\n",
       "  rendering on GitHub or <a href=\"https://nbviewer.jupyter.org/\">NBViewer</a>),\n",
       "  it may mean that your frontend doesn't currently support widgets.\n",
       "</p>\n"
      ],
      "text/plain": [
       "VBox(children=(Label(value='Value is: '), Button(style=ButtonStyle())))"
      ]
     },
     "metadata": {},
     "output_type": "display_data"
    },
    {
     "name": "stdout",
     "output_type": "stream",
     "text": [
      "Value is: [0.84921933] Value is: [0.56926262]\n",
      "Value is: [0.56926262] Value is: [0.45419612]\n",
      "Value is: [0.45419612] Value is: [0.31724644]\n",
      "Value is: [0.31724644] Value is: [0.59024284]\n",
      "Value is: [0.59024284] Value is: [0.07411651]\n",
      "Value is: [0.07411651] Value is: [0.19489681]\n",
      "Value is: [0.19489681] Value is: [0.10518219]\n",
      "Value is: [0.10518219] Value is: [0.26887401]\n",
      "Value is: [0.26887401] Value is: [0.9054775]\n",
      "Value is: [0.9054775] Value is: [0.96899179]\n",
      "Value is: [0.96899179] Value is: [0.1829201]\n",
      "Value is: [0.1829201] Value is: [0.23469201]\n",
      "Value is: [0.23469201] Value is: [0.22255305]\n",
      "Value is: [0.22255305] Value is: [0.85204245]\n",
      "Value is: [0.85204245] Value is: [0.66507882]\n",
      "Value is: [0.66507882] Value is: [0.17766232]\n",
      "Value is: [0.17766232] Value is: [0.42599562]\n",
      "Value is: [0.42599562] Value is: [0.64432538]\n",
      "Value is: [0.64432538] Value is: [0.30374814]\n",
      "Value is: [0.30374814] Value is: [0.13400613]\n",
      "Value is: [0.13400613] Value is: [0.6031043]\n",
      "Value is: [0.6031043] Value is: [0.21228473]\n",
      "Value is: [0.21228473] Value is: [0.30910298]\n",
      "Value is: [0.30910298] Value is: [0.93274792]\n"
     ]
    }
   ],
   "source": [
    "display( ipywidgets.VBox([label, button]))"
   ]
  },
  {
   "cell_type": "code",
   "execution_count": 112,
   "metadata": {},
   "outputs": [
    {
     "data": {
      "text/plain": [
       "'Value is: [0.66162876]'"
      ]
     },
     "execution_count": 112,
     "metadata": {},
     "output_type": "execute_result"
    }
   ],
   "source": [
    "label.value"
   ]
  },
  {
   "cell_type": "code",
   "execution_count": 113,
   "metadata": {},
   "outputs": [],
   "source": [
    "def print_label(change):\n",
    "    print(change['old'], change['new'])\n",
    "label.observe(print_label, ['value'])"
   ]
  },
  {
   "cell_type": "code",
   "execution_count": 117,
   "metadata": {},
   "outputs": [],
   "source": [
    "%matplotlib inline\n",
    "import matplotlib.pyplot as plt\n",
    "import matplotlib.patches as patches"
   ]
  },
  {
   "cell_type": "code",
   "execution_count": 118,
   "metadata": {},
   "outputs": [],
   "source": [
    "def make_clock(hours, minutes):\n",
    "    arr1 = patches.Arrow(hours * (np.pi/6), 0, 0, 0.5)\n",
    "    arr2 = patches.Arrow(minutes * (np.pi/30), 0, 0, 1.0)\n",
    "    ax = plt.subplot(111,projection='polar')\n",
    "    ax.set_theta_offset(np.pi/2)\n",
    "    ax.set_theta_direction(-1)\n",
    "    ax.add_patch(arr1)\n",
    "    ax.add_patch(arr2)\n",
    "    ax.set_xticks( [i * np.pi/6 for i in range(12) ]);\n",
    "    ticklabels = [i for i in range(12)]\n",
    "    ticklabels[0] = 12\n",
    "    ax.set_xticklabels( ticklabels );\n",
    "    ax.set_yticks( [] )\n",
    "    ax.grid(False)\n",
    "    return ax"
   ]
  },
  {
   "cell_type": "code",
   "execution_count": 119,
   "metadata": {},
   "outputs": [
    {
     "data": {
      "text/plain": [
       "<matplotlib.axes._subplots.PolarAxesSubplot at 0x7f902e2148d0>"
      ]
     },
     "execution_count": 119,
     "metadata": {},
     "output_type": "execute_result"
    },
    {
     "data": {
      "image/png": "[encoded data removed]",
      "text/plain": [
       "<matplotlib.figure.Figure at 0x7f902e2142e8>"
      ]
     },
     "metadata": {},
     "output_type": "display_data"
    }
   ],
   "source": [
    "make_clock(3, 54)"
   ]
  },
  {
   "cell_type": "code",
   "execution_count": 123,
   "metadata": {},
   "outputs": [
    {
     "data": {
      "application/vnd.jupyter.widget-view+json": {
       "model_id": "19e313ee84894c0388e5983f3a1d7116",
       "version_major": 2,
       "version_minor": 0
      },
      "text/html": [
       "<p>Failed to display Jupyter Widget of type <code>HBox</code>.</p>\n",
       "<p>\n",
       "  If you're reading this message in the Jupyter Notebook or JupyterLab Notebook, it may mean\n",
       "  that the widgets JavaScript is still loading. If this message persists, it\n",
       "  likely means that the widgets JavaScript library is either not installed or\n",
       "  not enabled. See the <a href=\"https://ipywidgets.readthedocs.io/en/stable/user_install.html\">Jupyter\n",
       "  Widgets Documentation</a> for setup instructions.\n",
       "</p>\n",
       "<p>\n",
       "  If you're reading this message in another frontend (for example, a static\n",
       "  rendering on GitHub or <a href=\"https://nbviewer.jupyter.org/\">NBViewer</a>),\n",
       "  it may mean that your frontend doesn't currently support widgets.\n",
       "</p>\n"
      ],
      "text/plain": [
       "HBox(children=(IntSlider(value=1, max=12, min=1), BoundedIntText(value=0, max=59), Button(description='Make Clock', style=ButtonStyle())))"
      ]
     },
     "metadata": {},
     "output_type": "display_data"
    },
    {
     "data": {
      "image/png": "[encoded data removed]",
      "text/plain": [
       "<matplotlib.figure.Figure at 0x7f902e14a438>"
      ]
     },
     "metadata": {},
     "output_type": "display_data"
    },
    {
     "data": {
      "image/png": "[encoded data removed]",
      "text/plain": [
       "<matplotlib.figure.Figure at 0x7f902e17d748>"
      ]
     },
     "metadata": {},
     "output_type": "display_data"
    },
    {
     "data": {
      "image/png": "[encoded data removed]",
      "text/plain": [
       "<matplotlib.figure.Figure at 0x7f902e0cc668>"
      ]
     },
     "metadata": {},
     "output_type": "display_data"
    },
    {
     "data": {
      "image/png": "[encoded data removed]",
      "text/plain": [
       "<matplotlib.figure.Figure at 0x7f902e095a90>"
      ]
     },
     "metadata": {},
     "output_type": "display_data"
    }
   ],
   "source": [
    "hour = ipywidgets.IntSlider(value = 1, min = 1, max = 12, step = 1)\n",
    "minutes = ipywidgets.BoundedIntText(value = 0, min = 0, max = 59)\n",
    "button = ipywidgets.Button(description = \"Make Clock\")\n",
    "\n",
    "def make_new_clock(event):\n",
    "    return make_clock(hour.value, minutes.value)\n",
    "\n",
    "button.on_click(make_new_clock)\n",
    "display(ipywidgets.HBox([hour, minutes, button]))"
   ]
  },
  {
   "cell_type": "code",
   "execution_count": 124,
   "metadata": {},
   "outputs": [],
   "source": [
    "import bqplot"
   ]
  },
  {
   "cell_type": "code",
   "execution_count": 126,
   "metadata": {},
   "outputs": [],
   "source": [
    "x = np.arange(100)\n",
    "y = np.random.random(100) + 5"
   ]
  },
  {
   "cell_type": "code",
   "execution_count": 129,
   "metadata": {},
   "outputs": [],
   "source": [
    "x_sc = bqplot.LinearScale(min = 0, max = 100)\n",
    "y_sc = bqplot.LinearScale(min = 0, max = 10)"
   ]
  },
  {
   "cell_type": "code",
   "execution_count": 130,
   "metadata": {},
   "outputs": [
    {
     "data": {
      "application/vnd.jupyter.widget-view+json": {
       "model_id": "84e4e3d494e84e75818546395c02f8e8",
       "version_major": 2,
       "version_minor": 0
      },
      "text/html": [
       "<p>Failed to display Jupyter Widget of type <code>Figure</code>.</p>\n",
       "<p>\n",
       "  If you're reading this message in the Jupyter Notebook or JupyterLab Notebook, it may mean\n",
       "  that the widgets JavaScript is still loading. If this message persists, it\n",
       "  likely means that the widgets JavaScript library is either not installed or\n",
       "  not enabled. See the <a href=\"https://ipywidgets.readthedocs.io/en/stable/user_install.html\">Jupyter\n",
       "  Widgets Documentation</a> for setup instructions.\n",
       "</p>\n",
       "<p>\n",
       "  If you're reading this message in another frontend (for example, a static\n",
       "  rendering on GitHub or <a href=\"https://nbviewer.jupyter.org/\">NBViewer</a>),\n",
       "  it may mean that your frontend doesn't currently support widgets.\n",
       "</p>\n"
      ],
      "text/plain": [
       "Figure(axes=[Axis(label='X value', scale=LinearScale(max=100.0, min=0.0)), Axis(label='Y value', orientation='vertical', scale=LinearScale(max=10.0, min=0.0))], fig_margin={'top': 60, 'bottom': 60, 'left': 60, 'right': 60}, layout=Layout(min_width='125px'), marks=[Lines(colors=['#1f77b4', '#ff7f0e', '#2ca02c', '#d62728', '#9467bd', '#8c564b', '#e377c2', '#7f7f7f', '#bcbd22', '#17becf'], interactions={'hover': 'tooltip'}, scales={'x': LinearScale(max=100.0, min=0.0), 'y': LinearScale(max=10.0, min=0.0)}, scales_metadata={'x': {'orientation': 'horizontal', 'dimension': 'x'}, 'y': {'orientation': 'vertical', 'dimension': 'y'}, 'color': {'dimension': 'color'}}, tooltip_style={'opacity': 0.9}, x=array([ 0,  1,  2,  3,  4,  5,  6,  7,  8,  9, 10, 11, 12, 13, 14, 15, 16,\n",
       "       17, 18, 19, 20, 21, 22, 23, 24, 25, 26, 27, 28, 29, 30, 31, 32, 33,\n",
       "       34, 35, 36, 37, 38, 39, 40, 41, 42, 43, 44, 45, 46, 47, 48, 49, 50,\n",
       "       51, 52, 53, 54, 55, 56, 57, 58, 59, 60, 61, 62, 63, 64, 65, 66, 67,\n",
       "       68, 69, 70, 71, 72, 73, 74, 75, 76, 77, 78, 79, 80, 81, 82, 83, 84,\n",
       "       85, 86, 87, 88, 89, 90, 91, 92, 93, 94, 95, 96, 97, 98, 99]), y=array([5.48178544, 5.73294725, 5.25848947, 5.37155374, 5.14643046,\n",
       "       5.05729938, 5.5438645 , 5.77434077, 5.22061528, 5.59159344,\n",
       "       5.28381218, 5.84323245, 5.15297692, 5.20760003, 5.70041308,\n",
       "       5.8999815 , 5.67067848, 5.16008287, 5.55750474, 5.63917023,\n",
       "       5.42046446, 5.36133841, 5.46654538, 5.60692398, 5.47102748,\n",
       "       5.15514647, 5.78500353, 5.80195735, 5.87494631, 5.49805347,\n",
       "       5.63127361, 5.9686864 , 5.48990155, 5.70633172, 5.44564281,\n",
       "       5.48652129, 5.39808102, 5.0459601 , 5.10908226, 5.84783389,\n",
       "       5.23275831, 5.69676533, 5.06873695, 5.65969542, 5.40992127,\n",
       "       5.51056114, 5.15984512, 5.35067599, 5.58927346, 5.25068882,\n",
       "       5.92127453, 5.34306578, 5.97884352, 5.03292188, 5.24518625,\n",
       "       5.68353046, 5.8181125 , 5.09154859, 5.64401955, 5.16344482,\n",
       "       5.61836142, 5.03740299, 5.06309694, 5.99248916, 5.99154412,\n",
       "       5.40018792, 5.08416507, 5.27520269, 5.50757315, 5.97449403,\n",
       "       5.9117698 , 5.93997444, 5.97337664, 5.14049234, 5.19093151,\n",
       "       5.36579892, 5.57815149, 5.78522163, 5.08102303, 5.37594481,\n",
       "       5.90170004, 5.4066296 , 5.80339533, 5.17397272, 5.26967689,\n",
       "       5.04534012, 5.40232662, 5.19064995, 5.57126875, 5.52686964,\n",
       "       5.47048758, 5.62500898, 5.63859343, 5.87506198, 5.9598862 ,\n",
       "       5.87864308, 5.4089037 , 5.28832804, 5.2604037 , 5.71663254]))], scale_x=LinearScale(allow_padding=False, max=1.0, min=0.0), scale_y=LinearScale(allow_padding=False, max=1.0, min=0.0))"
      ]
     },
     "metadata": {},
     "output_type": "display_data"
    }
   ],
   "source": [
    "lines = bqplot.Lines(x = x, y = y, scales = {'x': x_sc, 'y': y_sc})\n",
    "ax_x = bqplot.Axis(scale = x_sc, label = 'X value')\n",
    "ax_y = bqplot.Axis(scale = y_sc, label = 'Y value', orientation = 'vertical')\n",
    "fig = bqplot.Figure(marks = [lines], axes = [ax_x, ax_y])\n",
    "display(fig)"
   ]
  },
  {
   "cell_type": "code",
   "execution_count": 136,
   "metadata": {},
   "outputs": [
    {
     "data": {
      "application/vnd.jupyter.widget-view+json": {
       "model_id": "05360b8ef7574f07934bcd68e7cc2f5c",
       "version_major": 2,
       "version_minor": 0
      },
      "text/html": [
       "<p>Failed to display Jupyter Widget of type <code>IntSlider</code>.</p>\n",
       "<p>\n",
       "  If you're reading this message in the Jupyter Notebook or JupyterLab Notebook, it may mean\n",
       "  that the widgets JavaScript is still loading. If this message persists, it\n",
       "  likely means that the widgets JavaScript library is either not installed or\n",
       "  not enabled. See the <a href=\"https://ipywidgets.readthedocs.io/en/stable/user_install.html\">Jupyter\n",
       "  Widgets Documentation</a> for setup instructions.\n",
       "</p>\n",
       "<p>\n",
       "  If you're reading this message in another frontend (for example, a static\n",
       "  rendering on GitHub or <a href=\"https://nbviewer.jupyter.org/\">NBViewer</a>),\n",
       "  it may mean that your frontend doesn't currently support widgets.\n",
       "</p>\n"
      ],
      "text/plain": [
       "IntSlider(value=1, max=10, min=1)"
      ]
     },
     "metadata": {},
     "output_type": "display_data"
    }
   ],
   "source": [
    "islider = ipywidgets.IntSlider(min = 1, max = 10)\n",
    "ipywidgets.link((islider, 'value'), (lines, 'stroke_width'))\n",
    "display(islider)"
   ]
  },
  {
   "cell_type": "code",
   "execution_count": 142,
   "metadata": {},
   "outputs": [],
   "source": [
    "pz = bqplot.interacts.PanZoom( scales = {'x': [x_sc], 'y': [y_sc]} )"
   ]
  },
  {
   "cell_type": "code",
   "execution_count": 143,
   "metadata": {},
   "outputs": [
    {
     "data": {
      "application/vnd.jupyter.widget-view+json": {
       "model_id": "181426526b3e449f930f7bc80276ca67",
       "version_major": 2,
       "version_minor": 0
      },
      "text/html": [
       "<p>Failed to display Jupyter Widget of type <code>Figure</code>.</p>\n",
       "<p>\n",
       "  If you're reading this message in the Jupyter Notebook or JupyterLab Notebook, it may mean\n",
       "  that the widgets JavaScript is still loading. If this message persists, it\n",
       "  likely means that the widgets JavaScript library is either not installed or\n",
       "  not enabled. See the <a href=\"https://ipywidgets.readthedocs.io/en/stable/user_install.html\">Jupyter\n",
       "  Widgets Documentation</a> for setup instructions.\n",
       "</p>\n",
       "<p>\n",
       "  If you're reading this message in another frontend (for example, a static\n",
       "  rendering on GitHub or <a href=\"https://nbviewer.jupyter.org/\">NBViewer</a>),\n",
       "  it may mean that your frontend doesn't currently support widgets.\n",
       "</p>\n"
      ],
      "text/plain": [
       "Figure(axes=[Axis(label='X value', scale=LinearScale(max=100.0, min=0.0)), Axis(label='Y value', orientation='vertical', scale=LinearScale(max=10.0, min=0.0))], fig_margin={'top': 60, 'bottom': 60, 'left': 60, 'right': 60}, interaction=PanZoom(scales={'x': [LinearScale(max=100.0, min=0.0)], 'y': [LinearScale(max=10.0, min=0.0)]}), layout=Layout(min_width='125px'), marks=[Lines(colors=['#1f77b4', '#ff7f0e', '#2ca02c', '#d62728', '#9467bd', '#8c564b', '#e377c2', '#7f7f7f', '#bcbd22', '#17becf'], interactions={'hover': 'tooltip'}, scales={'x': LinearScale(max=100.0, min=0.0), 'y': LinearScale(max=10.0, min=0.0)}, scales_metadata={'x': {'orientation': 'horizontal', 'dimension': 'x'}, 'y': {'orientation': 'vertical', 'dimension': 'y'}, 'color': {'dimension': 'color'}}, tooltip_style={'opacity': 0.9}, x=array([ 0,  1,  2,  3,  4,  5,  6,  7,  8,  9, 10, 11, 12, 13, 14, 15, 16,\n",
       "       17, 18, 19, 20, 21, 22, 23, 24, 25, 26, 27, 28, 29, 30, 31, 32, 33,\n",
       "       34, 35, 36, 37, 38, 39, 40, 41, 42, 43, 44, 45, 46, 47, 48, 49, 50,\n",
       "       51, 52, 53, 54, 55, 56, 57, 58, 59, 60, 61, 62, 63, 64, 65, 66, 67,\n",
       "       68, 69, 70, 71, 72, 73, 74, 75, 76, 77, 78, 79, 80, 81, 82, 83, 84,\n",
       "       85, 86, 87, 88, 89, 90, 91, 92, 93, 94, 95, 96, 97, 98, 99]), y=array([5.48178544, 5.73294725, 5.25848947, 5.37155374, 5.14643046,\n",
       "       5.05729938, 5.5438645 , 5.77434077, 5.22061528, 5.59159344,\n",
       "       5.28381218, 5.84323245, 5.15297692, 5.20760003, 5.70041308,\n",
       "       5.8999815 , 5.67067848, 5.16008287, 5.55750474, 5.63917023,\n",
       "       5.42046446, 5.36133841, 5.46654538, 5.60692398, 5.47102748,\n",
       "       5.15514647, 5.78500353, 5.80195735, 5.87494631, 5.49805347,\n",
       "       5.63127361, 5.9686864 , 5.48990155, 5.70633172, 5.44564281,\n",
       "       5.48652129, 5.39808102, 5.0459601 , 5.10908226, 5.84783389,\n",
       "       5.23275831, 5.69676533, 5.06873695, 5.65969542, 5.40992127,\n",
       "       5.51056114, 5.15984512, 5.35067599, 5.58927346, 5.25068882,\n",
       "       5.92127453, 5.34306578, 5.97884352, 5.03292188, 5.24518625,\n",
       "       5.68353046, 5.8181125 , 5.09154859, 5.64401955, 5.16344482,\n",
       "       5.61836142, 5.03740299, 5.06309694, 5.99248916, 5.99154412,\n",
       "       5.40018792, 5.08416507, 5.27520269, 5.50757315, 5.97449403,\n",
       "       5.9117698 , 5.93997444, 5.97337664, 5.14049234, 5.19093151,\n",
       "       5.36579892, 5.57815149, 5.78522163, 5.08102303, 5.37594481,\n",
       "       5.90170004, 5.4066296 , 5.80339533, 5.17397272, 5.26967689,\n",
       "       5.04534012, 5.40232662, 5.19064995, 5.57126875, 5.52686964,\n",
       "       5.47048758, 5.62500898, 5.63859343, 5.87506198, 5.9598862 ,\n",
       "       5.87864308, 5.4089037 , 5.28832804, 5.2604037 , 5.71663254]))], scale_x=LinearScale(allow_padding=False, max=1.0, min=0.0), scale_y=LinearScale(allow_padding=False, max=1.0, min=0.0))"
      ]
     },
     "metadata": {},
     "output_type": "display_data"
    }
   ],
   "source": [
    "lines = bqplot.Lines(x = x, y = y, scales = {'x': x_sc, 'y': y_sc})\n",
    "ax_x = bqplot.Axis(scale = x_sc, label = 'X value')\n",
    "ax_y = bqplot.Axis(scale = y_sc, label = 'Y value', orientation = 'vertical')\n",
    "fig = bqplot.Figure(marks = [lines], axes = [ax_x, ax_y],\n",
    "                    interaction = pz)\n",
    "display(fig)"
   ]
  },
  {
   "cell_type": "code",
   "execution_count": 147,
   "metadata": {},
   "outputs": [],
   "source": [
    "x2 = x.copy()\n",
    "y2 = np.random.random(100) * 5 + 100"
   ]
  },
  {
   "cell_type": "code",
   "execution_count": 150,
   "metadata": {},
   "outputs": [],
   "source": [
    "lines2 = bqplot.Lines(x = x2, y = y2, scales = {'x': x_sc, 'y': y_sc},\n",
    "                     color = ['red'])"
   ]
  },
  {
   "cell_type": "code",
   "execution_count": 154,
   "metadata": {},
   "outputs": [
    {
     "data": {
      "application/vnd.jupyter.widget-view+json": {
       "model_id": "e6413b8e33f342cb8ff2bd79c90a68a5",
       "version_major": 2,
       "version_minor": 0
      },
      "text/html": [
       "<p>Failed to display Jupyter Widget of type <code>Figure</code>.</p>\n",
       "<p>\n",
       "  If you're reading this message in the Jupyter Notebook or JupyterLab Notebook, it may mean\n",
       "  that the widgets JavaScript is still loading. If this message persists, it\n",
       "  likely means that the widgets JavaScript library is either not installed or\n",
       "  not enabled. See the <a href=\"https://ipywidgets.readthedocs.io/en/stable/user_install.html\">Jupyter\n",
       "  Widgets Documentation</a> for setup instructions.\n",
       "</p>\n",
       "<p>\n",
       "  If you're reading this message in another frontend (for example, a static\n",
       "  rendering on GitHub or <a href=\"https://nbviewer.jupyter.org/\">NBViewer</a>),\n",
       "  it may mean that your frontend doesn't currently support widgets.\n",
       "</p>\n"
      ],
      "text/plain": [
       "Figure(axes=[Axis(label='X value', scale=LinearScale(max=1329.372807294671, min=-1609.2560188980801), side='bottom'), Axis(label='Y value', orientation='vertical', scale=LinearScale(max=128.49568155411453, min=7.27834636822039), side='left')], fig_margin={'top': 60, 'bottom': 60, 'left': 60, 'right': 60}, interaction=PanZoom(scales={'x': [LinearScale(max=1329.372807294671, min=-1609.2560188980801)], 'y': [LinearScale(max=128.49568155411453, min=7.27834636822039)]}), layout=Layout(min_width='125px'), marks=[Lines(colors=['#1f77b4', '#ff7f0e', '#2ca02c', '#d62728', '#9467bd', '#8c564b', '#e377c2', '#7f7f7f', '#bcbd22', '#17becf'], interactions={'hover': 'tooltip'}, scales={'x': LinearScale(max=1329.372807294671, min=-1609.2560188980801), 'y': LinearScale(max=128.49568155411453, min=7.27834636822039)}, scales_metadata={'x': {'orientation': 'horizontal', 'dimension': 'x'}, 'y': {'orientation': 'vertical', 'dimension': 'y'}, 'color': {'dimension': 'color'}}, tooltip_style={'opacity': 0.9}, x=array([ 0,  1,  2,  3,  4,  5,  6,  7,  8,  9, 10, 11, 12, 13, 14, 15, 16,\n",
       "       17, 18, 19, 20, 21, 22, 23, 24, 25, 26, 27, 28, 29, 30, 31, 32, 33,\n",
       "       34, 35, 36, 37, 38, 39, 40, 41, 42, 43, 44, 45, 46, 47, 48, 49, 50,\n",
       "       51, 52, 53, 54, 55, 56, 57, 58, 59, 60, 61, 62, 63, 64, 65, 66, 67,\n",
       "       68, 69, 70, 71, 72, 73, 74, 75, 76, 77, 78, 79, 80, 81, 82, 83, 84,\n",
       "       85, 86, 87, 88, 89, 90, 91, 92, 93, 94, 95, 96, 97, 98, 99]), y=array([5.48178544, 5.73294725, 5.25848947, 5.37155374, 5.14643046,\n",
       "       5.05729938, 5.5438645 , 5.77434077, 5.22061528, 5.59159344,\n",
       "       5.28381218, 5.84323245, 5.15297692, 5.20760003, 5.70041308,\n",
       "       5.8999815 , 5.67067848, 5.16008287, 5.55750474, 5.63917023,\n",
       "       5.42046446, 5.36133841, 5.46654538, 5.60692398, 5.47102748,\n",
       "       5.15514647, 5.78500353, 5.80195735, 5.87494631, 5.49805347,\n",
       "       5.63127361, 5.9686864 , 5.48990155, 5.70633172, 5.44564281,\n",
       "       5.48652129, 5.39808102, 5.0459601 , 5.10908226, 5.84783389,\n",
       "       5.23275831, 5.69676533, 5.06873695, 5.65969542, 5.40992127,\n",
       "       5.51056114, 5.15984512, 5.35067599, 5.58927346, 5.25068882,\n",
       "       5.92127453, 5.34306578, 5.97884352, 5.03292188, 5.24518625,\n",
       "       5.68353046, 5.8181125 , 5.09154859, 5.64401955, 5.16344482,\n",
       "       5.61836142, 5.03740299, 5.06309694, 5.99248916, 5.99154412,\n",
       "       5.40018792, 5.08416507, 5.27520269, 5.50757315, 5.97449403,\n",
       "       5.9117698 , 5.93997444, 5.97337664, 5.14049234, 5.19093151,\n",
       "       5.36579892, 5.57815149, 5.78522163, 5.08102303, 5.37594481,\n",
       "       5.90170004, 5.4066296 , 5.80339533, 5.17397272, 5.26967689,\n",
       "       5.04534012, 5.40232662, 5.19064995, 5.57126875, 5.52686964,\n",
       "       5.47048758, 5.62500898, 5.63859343, 5.87506198, 5.9598862 ,\n",
       "       5.87864308, 5.4089037 , 5.28832804, 5.2604037 , 5.71663254])), Lines(color=array(['red'], dtype='<U3'), colors=['#1f77b4', '#ff7f0e', '#2ca02c', '#d62728', '#9467bd', '#8c564b', '#e377c2', '#7f7f7f', '#bcbd22', '#17becf'], interactions={'hover': 'tooltip'}, scales={'x': LinearScale(max=1329.372807294671, min=-1609.2560188980801), 'y': LinearScale(max=128.49568155411453, min=7.27834636822039)}, scales_metadata={'x': {'orientation': 'horizontal', 'dimension': 'x'}, 'y': {'orientation': 'vertical', 'dimension': 'y'}, 'color': {'dimension': 'color'}}, tooltip_style={'opacity': 0.9}, x=array([ 0,  1,  2,  3,  4,  5,  6,  7,  8,  9, 10, 11, 12, 13, 14, 15, 16,\n",
       "       17, 18, 19, 20, 21, 22, 23, 24, 25, 26, 27, 28, 29, 30, 31, 32, 33,\n",
       "       34, 35, 36, 37, 38, 39, 40, 41, 42, 43, 44, 45, 46, 47, 48, 49, 50,\n",
       "       51, 52, 53, 54, 55, 56, 57, 58, 59, 60, 61, 62, 63, 64, 65, 66, 67,\n",
       "       68, 69, 70, 71, 72, 73, 74, 75, 76, 77, 78, 79, 80, 81, 82, 83, 84,\n",
       "       85, 86, 87, 88, 89, 90, 91, 92, 93, 94, 95, 96, 97, 98, 99]), y=array([101.77887631, 100.1089426 , 100.24321451, 102.47701209,\n",
       "       104.97638544, 101.60139926, 102.59502667, 100.36687358,\n",
       "       102.76630066, 104.96301929, 103.12901562, 102.78521419,\n",
       "       101.77247627, 100.294447  , 100.38907759, 101.02642368,\n",
       "       100.25823338, 102.86767877, 103.23613149, 100.7182054 ,\n",
       "       103.89912213, 102.06767902, 103.56384796, 102.04546874,\n",
       "       100.56874645, 100.72229977, 103.55873455, 103.13542391,\n",
       "       103.82381248, 104.52179247, 104.744453  , 102.77512095,\n",
       "       102.76826048, 103.57494085, 101.99698779, 100.79981055,\n",
       "       104.69190152, 103.98813357, 102.21411008, 103.50928033,\n",
       "       101.8667099 , 102.29438694, 104.250489  , 101.52215847,\n",
       "       102.34535802, 102.3655949 , 104.05088713, 102.85844122,\n",
       "       100.35408058, 100.2959615 , 103.77402628, 102.92459445,\n",
       "       103.62020777, 102.98185713, 104.17354638, 104.2713591 ,\n",
       "       103.58452297, 100.00103622, 100.17404028, 103.57472937,\n",
       "       102.75264241, 101.40153061, 104.89484123, 101.58253925,\n",
       "       101.53316716, 100.33870524, 103.15052735, 101.54519563,\n",
       "       102.17971598, 104.18117846, 104.37882625, 103.74093933,\n",
       "       102.96174601, 100.47160287, 104.28711545, 104.52564366,\n",
       "       103.68694939, 104.04379053, 100.30458817, 104.13234767,\n",
       "       100.90551794, 100.98544988, 101.82910428, 103.71632975,\n",
       "       103.94169993, 102.4403538 , 102.747334  , 102.06089559,\n",
       "       101.7383087 , 104.98879004, 101.19392798, 103.96828904,\n",
       "       100.98141914, 101.38094326, 103.99667278, 103.78793222,\n",
       "       100.8358337 , 103.11157465, 100.57996043, 103.11817934]))], scale_x=LinearScale(allow_padding=False, max=1.0, min=0.0), scale_y=LinearScale(allow_padding=False, max=1.0, min=0.0))"
      ]
     },
     "metadata": {},
     "output_type": "display_data"
    }
   ],
   "source": [
    "fig = bqplot.Figure(marks = [lines, lines2], axes = [ax_x, ax_y],\n",
    "                    interaction = pz)\n",
    "display(fig)"
   ]
  },
  {
   "cell_type": "code",
   "execution_count": 165,
   "metadata": {},
   "outputs": [
    {
     "data": {
      "application/vnd.jupyter.widget-view+json": {
       "model_id": "3f1fff7dc4204a06b49e162bd6a1f376",
       "version_major": 2,
       "version_minor": 0
      },
      "text/html": [
       "<p>Failed to display Jupyter Widget of type <code>Figure</code>.</p>\n",
       "<p>\n",
       "  If you're reading this message in the Jupyter Notebook or JupyterLab Notebook, it may mean\n",
       "  that the widgets JavaScript is still loading. If this message persists, it\n",
       "  likely means that the widgets JavaScript library is either not installed or\n",
       "  not enabled. See the <a href=\"https://ipywidgets.readthedocs.io/en/stable/user_install.html\">Jupyter\n",
       "  Widgets Documentation</a> for setup instructions.\n",
       "</p>\n",
       "<p>\n",
       "  If you're reading this message in another frontend (for example, a static\n",
       "  rendering on GitHub or <a href=\"https://nbviewer.jupyter.org/\">NBViewer</a>),\n",
       "  it may mean that your frontend doesn't currently support widgets.\n",
       "</p>\n"
      ],
      "text/plain": [
       "Figure(axes=[Axis(label='X value', scale=LinearScale(max=100.0, min=0.0)), Axis(label='Y value', orientation='vertical', scale=LinearScale(max=10.0, min=0.0)), Axis(label='Log Y value', orientation='vertical', scale=LogScale(max=10000.0, min=1.0), side='right')], fig_margin={'top': 60, 'bottom': 60, 'left': 60, 'right': 60}, interaction=PanZoom(scales={'x': [LinearScale(max=100.0, min=0.0)], 'y': [LinearScale(max=10.0, min=0.0), LogScale(max=10000.0, min=1.0)]}), layout=Layout(min_width='125px'), marks=[Lines(colors=['#1f77b4', '#ff7f0e', '#2ca02c', '#d62728', '#9467bd', '#8c564b', '#e377c2', '#7f7f7f', '#bcbd22', '#17becf'], interactions={'hover': 'tooltip'}, scales={'x': LinearScale(max=100.0, min=0.0), 'y': LinearScale(max=10.0, min=0.0)}, scales_metadata={'x': {'orientation': 'horizontal', 'dimension': 'x'}, 'y': {'orientation': 'vertical', 'dimension': 'y'}, 'color': {'dimension': 'color'}}, tooltip_style={'opacity': 0.9}, x=array([ 0,  1,  2,  3,  4,  5,  6,  7,  8,  9, 10, 11, 12, 13, 14, 15, 16,\n",
       "       17, 18, 19, 20, 21, 22, 23, 24, 25, 26, 27, 28, 29, 30, 31, 32, 33,\n",
       "       34, 35, 36, 37, 38, 39, 40, 41, 42, 43, 44, 45, 46, 47, 48, 49, 50,\n",
       "       51, 52, 53, 54, 55, 56, 57, 58, 59, 60, 61, 62, 63, 64, 65, 66, 67,\n",
       "       68, 69, 70, 71, 72, 73, 74, 75, 76, 77, 78, 79, 80, 81, 82, 83, 84,\n",
       "       85, 86, 87, 88, 89, 90, 91, 92, 93, 94, 95, 96, 97, 98, 99]), y=array([ 0.00000000e+00, -2.72010555e+00,  4.56472625e+00, -4.94015812e+00,\n",
       "        3.72556580e+00, -1.31187427e+00, -1.52405311e+00,  3.86945341e+00,\n",
       "       -4.96944327e+00,  4.46998332e+00, -2.53182821e+00, -2.21213390e-01,\n",
       "        2.90305592e+00, -4.65052975e+00,  4.90119830e+00, -3.57438215e+00,\n",
       "        1.09712629e+00,  1.73324728e+00, -4.00576318e+00,  4.98899639e+00,\n",
       "       -4.36648649e+00,  2.33859259e+00,  4.41993562e-01, -3.08032102e+00,\n",
       "        4.72722577e+00, -4.85264010e+00,  3.41619852e+00, -8.80229732e-01,\n",
       "       -1.93904710e+00,  4.13422817e+00, -4.99877920e+00,  4.25443844e+00,\n",
       "       -2.14077714e+00, -6.61908146e-01,  3.25155370e+00, -4.79466413e+00,\n",
       "        4.79457862e+00, -3.25132470e+00,  6.61609354e-01,  2.14104955e+00,\n",
       "       -4.25459680e+00,  4.99877253e+00, -4.13405862e+00,  1.93876925e+00,\n",
       "        8.80526466e-01, -3.41641863e+00,  4.85271273e+00, -4.72712756e+00,\n",
       "        3.08008357e+00, -4.41693298e-01, -2.33885903e+00,  4.36663334e+00,\n",
       "       -4.98897640e+00,  4.00558277e+00, -1.73296452e+00, -1.09742039e+00,\n",
       "        3.57459293e+00, -4.90125792e+00,  4.65041902e+00, -2.90281049e+00,\n",
       "        2.20912242e-01,  2.53208814e+00, -4.47011838e+00,  4.96940999e+00,\n",
       "       -3.86926249e+00,  1.52376600e+00,  1.31216515e+00, -3.72576684e+00,\n",
       "        4.94020461e+00, -4.56460323e+00,  2.71985262e+00,  3.01443533e-04,\n",
       "       -2.72035848e+00,  4.56484926e+00, -4.94011161e+00,  3.72536475e+00,\n",
       "       -1.31158338e+00, -1.52434020e+00,  3.86964431e+00, -4.96947654e+00,\n",
       "        4.46984824e+00, -2.53156826e+00, -2.21514538e-01,  2.90330135e+00,\n",
       "       -4.65064046e+00,  4.90113866e+00, -3.57417136e+00,  1.09683219e+00,\n",
       "        1.73353003e+00, -4.00594357e+00,  4.98901637e+00, -4.36633962e+00,\n",
       "        2.33832615e+00,  4.42293825e-01, -3.08055846e+00,  4.72732397e+00,\n",
       "       -4.85256744e+00,  3.41597840e+00, -8.79932995e-01, -1.93932495e+00])), Lines(colors=['#1f77b4', '#ff7f0e', '#2ca02c', '#d62728', '#9467bd', '#8c564b', '#e377c2', '#7f7f7f', '#bcbd22', '#17becf'], interactions={'hover': 'tooltip'}, scales={'x': LinearScale(max=100.0, min=0.0), 'y': LogScale(max=10000.0, min=1.0)}, scales_metadata={'x': {'orientation': 'horizontal', 'dimension': 'x'}, 'y': {'orientation': 'vertical', 'dimension': 'y'}, 'color': {'dimension': 'color'}}, tooltip_style={'opacity': 0.9}, x=array([ 0,  1,  2,  3,  4,  5,  6,  7,  8,  9, 10, 11, 12, 13, 14, 15, 16,\n",
       "       17, 18, 19, 20, 21, 22, 23, 24, 25, 26, 27, 28, 29, 30, 31, 32, 33,\n",
       "       34, 35, 36, 37, 38, 39, 40, 41, 42, 43, 44, 45, 46, 47, 48, 49, 50,\n",
       "       51, 52, 53, 54, 55, 56, 57, 58, 59, 60, 61, 62, 63, 64, 65, 66, 67,\n",
       "       68, 69, 70, 71, 72, 73, 74, 75, 76, 77, 78, 79, 80, 81, 82, 83, 84,\n",
       "       85, 86, 87, 88, 89, 90, 91, 92, 93, 94, 95, 96, 97, 98, 99]), y=array([   0,    1,    4,    9,   16,   25,   36,   49,   64,   81,  100,\n",
       "        121,  144,  169,  196,  225,  256,  289,  324,  361,  400,  441,\n",
       "        484,  529,  576,  625,  676,  729,  784,  841,  900,  961, 1024,\n",
       "       1089, 1156, 1225, 1296, 1369, 1444, 1521, 1600, 1681, 1764, 1849,\n",
       "       1936, 2025, 2116, 2209, 2304, 2401, 2500, 2601, 2704, 2809, 2916,\n",
       "       3025, 3136, 3249, 3364, 3481, 3600, 3721, 3844, 3969, 4096, 4225,\n",
       "       4356, 4489, 4624, 4761, 4900, 5041, 5184, 5329, 5476, 5625, 5776,\n",
       "       5929, 6084, 6241, 6400, 6561, 6724, 6889, 7056, 7225, 7396, 7569,\n",
       "       7744, 7921, 8100, 8281, 8464, 8649, 8836, 9025, 9216, 9409, 9604,\n",
       "       9801]))], scale_x=LinearScale(allow_padding=False, max=1.0, min=0.0), scale_y=LinearScale(allow_padding=False, max=1.0, min=0.0))"
      ]
     },
     "metadata": {},
     "output_type": "display_data"
    }
   ],
   "source": [
    "x = np.arange(100)\n",
    "y = np.sin(10*x) * 5\n",
    "y2 = x**2\n",
    "\n",
    "x_sc = bqplot.LinearScale(min = 0, max = 100)\n",
    "y_sc = bqplot.LinearScale(min = 0, max = 10)\n",
    "y_sc2 = bqplot.LogScale(min = 1, max = 100**2)\n",
    "\n",
    "lines1 = bqplot.Lines(x = x, y = y, scales = {'x': x_sc, 'y': y_sc})\n",
    "lines2 = bqplot.Lines(x = x, y = y2, scales = {'x': x_sc, 'y': y_sc2})\n",
    "\n",
    "ax_x = bqplot.Axis(scale = x_sc, label = 'X value')\n",
    "ax_y = bqplot.Axis(scale = y_sc, label = 'Y value', orientation = 'vertical')\n",
    "ax_y2 = bqplot.Axis(scale = y_sc2, label = 'Log Y value', orientation = 'vertical',\n",
    "                   side = 'right')\n",
    "pz = bqplot.interacts.PanZoom(scales = {'x' : [x_sc], 'y': [y_sc, y_sc2]})\n",
    "fig = bqplot.Figure(marks = [lines1, lines2], axes = [ax_x, ax_y, ax_y2],\n",
    "                    interaction = pz)\n",
    "display(fig)\n"
   ]
  },
  {
   "cell_type": "code",
   "execution_count": 166,
   "metadata": {},
   "outputs": [],
   "source": [
    "import pandas as pd"
   ]
  },
  {
   "cell_type": "code",
   "execution_count": 170,
   "metadata": {},
   "outputs": [],
   "source": [
    "buildings = pd.read_csv(\"/home/shared/sp18-is590dv/data/IL_Building_Inventory.csv\",\n",
    "                       na_values = {'Year Acquired': 0, 'Year Constructed': 0})"
   ]
  },
  {
   "cell_type": "code",
   "execution_count": 171,
   "metadata": {},
   "outputs": [
    {
     "data": {
      "text/plain": [
       "1753.0"
      ]
     },
     "execution_count": 171,
     "metadata": {},
     "output_type": "execute_result"
    }
   ],
   "source": [
    "buildings['Year Acquired'].min()"
   ]
  },
  {
   "cell_type": "code",
   "execution_count": 200,
   "metadata": {},
   "outputs": [
    {
     "data": {
      "text/plain": [
       "array(['Department of Natural Resources', 'Department of Corrections',\n",
       "       'Department of Human Services', 'Department of Transportation',\n",
       "       'Department of State Police', 'Department of Military Affairs',\n",
       "       'Department of Agriculture', 'Governors State University',\n",
       "       'Department of Central Management Services',\n",
       "       'Illinois State University', 'Historic Preservation Agency',\n",
       "       'Department of Juvenile Justice', 'Southern Illinois University',\n",
       "       'Illinois Medical District Commission', 'University of Illinois',\n",
       "       \"Department of Veterans' Affairs\", 'Chicago State University',\n",
       "       'Northern Illinois University', 'Office of the Secretary of State',\n",
       "       'Illinois Emergency Management Agency',\n",
       "       'Western Illinois University', 'Eastern Illinois University',\n",
       "       'Northeastern Illinois University',\n",
       "       'Illinois Community College Board',\n",
       "       'Illinois Board of Higher Education',\n",
       "       'IL State Board of Education', 'Department of Revenue',\n",
       "       \"Governor's Office\", 'Office of the Attorney General',\n",
       "       'Appellate Court / Fourth District', 'Department of Public Health',\n",
       "       'Illinois Courts', 'Appellate Court / Third District',\n",
       "       'Appellate Court / Fifth District',\n",
       "       'Appellate Court / Second District'], dtype=object)"
      ]
     },
     "execution_count": 200,
     "metadata": {},
     "output_type": "execute_result"
    }
   ],
   "source": [
    "buildings[\"Agency Name\"].unique()"
   ]
  },
  {
   "cell_type": "code",
   "execution_count": 206,
   "metadata": {},
   "outputs": [
    {
     "data": {
      "application/vnd.jupyter.widget-view+json": {
       "model_id": "11855f131bbc443c90fc74e3430b1d3d",
       "version_major": 2,
       "version_minor": 0
      },
      "text/html": [
       "<p>Failed to display Jupyter Widget of type <code>Figure</code>.</p>\n",
       "<p>\n",
       "  If you're reading this message in the Jupyter Notebook or JupyterLab Notebook, it may mean\n",
       "  that the widgets JavaScript is still loading. If this message persists, it\n",
       "  likely means that the widgets JavaScript library is either not installed or\n",
       "  not enabled. See the <a href=\"https://ipywidgets.readthedocs.io/en/stable/user_install.html\">Jupyter\n",
       "  Widgets Documentation</a> for setup instructions.\n",
       "</p>\n",
       "<p>\n",
       "  If you're reading this message in another frontend (for example, a static\n",
       "  rendering on GitHub or <a href=\"https://nbviewer.jupyter.org/\">NBViewer</a>),\n",
       "  it may mean that your frontend doesn't currently support widgets.\n",
       "</p>\n"
      ],
      "text/plain": [
       "Figure(axes=[Axis(label='Year Constructed', scale=LinearScale()), Axis(label='Year Acquired', orientation='vertical', scale=LinearScale())], fig_margin={'top': 60, 'bottom': 60, 'left': 60, 'right': 60}, interaction=FastIntervalSelector(marks=[Scatter(colors=['steelblue'], interactions={'hover': 'tooltip'}, scales={'x': LinearScale(), 'y': LinearScale()}, scales_metadata={'x': {'orientation': 'horizontal', 'dimension': 'x'}, 'y': {'orientation': 'vertical', 'dimension': 'y'}, 'color': {'dimension': 'color'}, 'size': {'dimension': 'size'}, 'opacity': {'dimension': 'opacity'}, 'rotation': {'dimension': 'rotation'}, 'skew': {'dimension': 'skew'}}, tooltip_style={'opacity': 0.9}, x=array([1975., 2004., 2004., ..., 1987., 1971., 2017.]), y=array([1975., 2004., 2004., ...,   nan, 1971.,   nan]))], scale=LinearScale()), layout=Layout(min_width='125px'), marks=[Scatter(colors=['steelblue'], interactions={'hover': 'tooltip'}, scales={'x': LinearScale(), 'y': LinearScale()}, scales_metadata={'x': {'orientation': 'horizontal', 'dimension': 'x'}, 'y': {'orientation': 'vertical', 'dimension': 'y'}, 'color': {'dimension': 'color'}, 'size': {'dimension': 'size'}, 'opacity': {'dimension': 'opacity'}, 'rotation': {'dimension': 'rotation'}, 'skew': {'dimension': 'skew'}}, tooltip_style={'opacity': 0.9}, x=array([1975., 2004., 2004., ..., 1987., 1971., 2017.]), y=array([1975., 2004., 2004., ...,   nan, 1971.,   nan]))], scale_x=LinearScale(allow_padding=False, max=1.0, min=0.0), scale_y=LinearScale(allow_padding=False, max=1.0, min=0.0))"
      ]
     },
     "metadata": {},
     "output_type": "display_data"
    },
    {
     "data": {
      "application/vnd.jupyter.widget-view+json": {
       "model_id": "3da2acafb45945178f8c5997de96ec5f",
       "version_major": 2,
       "version_minor": 0
      },
      "text/html": [
       "<p>Failed to display Jupyter Widget of type <code>Label</code>.</p>\n",
       "<p>\n",
       "  If you're reading this message in the Jupyter Notebook or JupyterLab Notebook, it may mean\n",
       "  that the widgets JavaScript is still loading. If this message persists, it\n",
       "  likely means that the widgets JavaScript library is either not installed or\n",
       "  not enabled. See the <a href=\"https://ipywidgets.readthedocs.io/en/stable/user_install.html\">Jupyter\n",
       "  Widgets Documentation</a> for setup instructions.\n",
       "</p>\n",
       "<p>\n",
       "  If you're reading this message in another frontend (for example, a static\n",
       "  rendering on GitHub or <a href=\"https://nbviewer.jupyter.org/\">NBViewer</a>),\n",
       "  it may mean that your frontend doesn't currently support widgets.\n",
       "</p>\n"
      ],
      "text/plain": [
       "Label(value='The total square footage: ')"
      ]
     },
     "metadata": {},
     "output_type": "display_data"
    }
   ],
   "source": [
    "x_sc = bqplot.LinearScale()\n",
    "y_sc = bqplot.LinearScale()\n",
    "\n",
    "x_ax = bqplot.Axis(scale = x_sc, label = 'Year Constructed')\n",
    "y_ax = bqplot.Axis(scale = y_sc, label = 'Year Acquired',\n",
    "                  orientation = 'vertical')\n",
    "\n",
    "scatters = bqplot.Scatter(x = buildings['Year Constructed'],\n",
    "                          y = buildings['Year Acquired'],\n",
    "                          scales = {'x': x_sc, 'y': y_sc},\n",
    "                          sizes = 0.5)\n",
    "\n",
    "selector = bqplot.interacts.FastIntervalSelector(\n",
    "    scale = x_sc, marks = [scatters])\n",
    "\n",
    "fig = bqplot.Figure(marks = [scatters], axes = [x_ax, y_ax],\n",
    "                   interaction = selector)\n",
    "\n",
    "label = ipywidgets.Label(\"The total square footage: \")\n",
    "def on_selection_change(change):\n",
    "    min_val, max_val = change['new']\n",
    "    ts = buildings[\"Square Footage\"][((buildings[\"Year Constructed\"] > min_val)\n",
    "                                 & (buildings[\"Year Constructed\"] < max_val))].sum()\n",
    "    label.value = \"The total square footage:  %s\" % ts\n",
    "selector.observe(on_selection_change, ['selected'])\n",
    "display(fig, label);"
   ]
  },
  {
   "cell_type": "code",
   "execution_count": 207,
   "metadata": {},
   "outputs": [],
   "source": [
    "ls = bqplot.interacts.LassoSelector()"
   ]
  },
  {
   "cell_type": "code",
   "execution_count": 209,
   "metadata": {},
   "outputs": [
    {
     "data": {
      "text/plain": [
       "{'_display_callbacks': <traitlets.traitlets.Instance at 0x7f904c219a20>,\n",
       " '_model_module': <traitlets.traitlets.Unicode at 0x7f8fe7ba6470>,\n",
       " '_model_module_version': <traitlets.traitlets.Unicode at 0x7f8fe77bee48>,\n",
       " '_model_name': <traitlets.traitlets.Unicode at 0x7f8fe77c2b70>,\n",
       " '_msg_callbacks': <traitlets.traitlets.Instance at 0x7f904ca96240>,\n",
       " '_property_lock': <traitlets.traitlets.Dict at 0x7f904c2190b8>,\n",
       " '_states_to_send': <traitlets.traitlets.Set at 0x7f904c219710>,\n",
       " '_view_count': <traitlets.traitlets.Int at 0x7f904c219198>,\n",
       " '_view_module': <traitlets.traitlets.Unicode at 0x7f8fe7ba6358>,\n",
       " '_view_module_version': <traitlets.traitlets.Unicode at 0x7f8fe77bee10>,\n",
       " '_view_name': <traitlets.traitlets.Unicode at 0x7f8fe77c2b38>,\n",
       " 'color': <ipywidgets.widgets.trait_types.Color at 0x7f8fe77c2ac8>,\n",
       " 'comm': <traitlets.traitlets.Instance at 0x7f904c219e10>,\n",
       " 'keys': <traitlets.traitlets.List at 0x7f904c2194e0>,\n",
       " 'log': <traitlets.traitlets.Instance at 0x7f904c244550>,\n",
       " 'marks': <traitlets.traitlets.List at 0x7f8fe77c2b00>,\n",
       " 'x_scale': <traitlets.traitlets.Instance at 0x7f8fe77c2358>,\n",
       " 'y_scale': <traitlets.traitlets.Instance at 0x7f8fe77c2390>}"
      ]
     },
     "execution_count": 209,
     "metadata": {},
     "output_type": "execute_result"
    }
   ],
   "source": []
  },
  {
   "cell_type": "code",
   "execution_count": 211,
   "metadata": {},
   "outputs": [
    {
     "data": {
      "application/vnd.jupyter.widget-view+json": {
       "model_id": "b273533f289142fb80b7ec8725524afa",
       "version_major": 2,
       "version_minor": 0
      },
      "text/html": [
       "<p>Failed to display Jupyter Widget of type <code>Figure</code>.</p>\n",
       "<p>\n",
       "  If you're reading this message in the Jupyter Notebook or JupyterLab Notebook, it may mean\n",
       "  that the widgets JavaScript is still loading. If this message persists, it\n",
       "  likely means that the widgets JavaScript library is either not installed or\n",
       "  not enabled. See the <a href=\"https://ipywidgets.readthedocs.io/en/stable/user_install.html\">Jupyter\n",
       "  Widgets Documentation</a> for setup instructions.\n",
       "</p>\n",
       "<p>\n",
       "  If you're reading this message in another frontend (for example, a static\n",
       "  rendering on GitHub or <a href=\"https://nbviewer.jupyter.org/\">NBViewer</a>),\n",
       "  it may mean that your frontend doesn't currently support widgets.\n",
       "</p>\n"
      ],
      "text/plain": [
       "Figure(axes=[Axis(label='Year Constructed', scale=LinearScale()), Axis(label='Year Acquired', orientation='vertical', scale=LinearScale())], fig_margin={'top': 60, 'bottom': 60, 'left': 60, 'right': 60}, interaction=LassoSelector(marks=[Scatter(colors=['steelblue'], interactions={'hover': 'tooltip'}, scales={'x': LinearScale(), 'y': LinearScale()}, scales_metadata={'x': {'orientation': 'horizontal', 'dimension': 'x'}, 'y': {'orientation': 'vertical', 'dimension': 'y'}, 'color': {'dimension': 'color'}, 'size': {'dimension': 'size'}, 'opacity': {'dimension': 'opacity'}, 'rotation': {'dimension': 'rotation'}, 'skew': {'dimension': 'skew'}}, tooltip_style={'opacity': 0.9}, x=array([1975., 2004., 2004., 2004., 2004., 2004., 2000., 2000., 2000.,\n",
       "       2000., 2000., 2000., 1999., 1980., 2000., 2000., 1997., 2000.,\n",
       "       2000., 1976., 2000., 1980., 1994., 2001., 2001., 2000., 2000.,\n",
       "       2000., 2000., 2000., 2000., 2000., 1993., 1970., 1970., 2001.,\n",
       "       2001., 2000., 2000., 2000., 2000., 2000., 2000., 2000., 2000.,\n",
       "       2001., 1977., 2000., 2000., 2000., 2000., 2000., 2000., 2000.,\n",
       "       2000., 2000., 2000., 2002., 2001., 2001., 2001., 2001., 2001.,\n",
       "       2006., 2001., 1990., 1988., 1988., 1998., 1993., 1998., 1976.,\n",
       "       1981., 1995., 1988., 1890., 1988., 1995., 1993., 1894., 1995.,\n",
       "       1896., 1990., 2000., 2001., 2000., 2000., 2000., 2001., 2001.,\n",
       "       2000., 2002., 2002., 2001., 2001., 1997., 2001., 2001., 1987.,\n",
       "       1985.]), y=array([1975., 2004., 2004., 2004., 2004., 2004., 2000., 2000., 2000.,\n",
       "       2000., 2000., 2000., 1999., 1980., 2000., 2000., 1997., 2000.,\n",
       "       2000., 1976., 2000., 1980., 1994., 2001., 2001., 2000., 2000.,\n",
       "       2000., 2000., 2000., 2000., 2000., 1993., 1972., 1970., 2001.,\n",
       "       2001., 2000., 2000., 2000., 2000., 2000., 2000., 2000., 2000.,\n",
       "       2001., 1996., 2000., 2000., 2000., 2000., 2000., 2000., 2000.,\n",
       "       2000., 2000., 2000., 2002., 2001., 2001., 2001., 2001., 2001.,\n",
       "       2006., 2001., 2000., 1988., 1988., 1998., 1993., 1998., 1976.,\n",
       "       1981., 1995., 1988., 1988., 1988., 1995., 1993., 1988., 1995.,\n",
       "       2000., 1996., 2000., 2001., 2000., 2000., 2000., 2001., 2001.,\n",
       "       2000., 2002., 2002., 2001., 2001., 1997., 2001., 2001., 1987.,\n",
       "       1985.]))]), layout=Layout(min_width='125px'), marks=[Scatter(colors=['steelblue'], interactions={'hover': 'tooltip'}, scales={'x': LinearScale(), 'y': LinearScale()}, scales_metadata={'x': {'orientation': 'horizontal', 'dimension': 'x'}, 'y': {'orientation': 'vertical', 'dimension': 'y'}, 'color': {'dimension': 'color'}, 'size': {'dimension': 'size'}, 'opacity': {'dimension': 'opacity'}, 'rotation': {'dimension': 'rotation'}, 'skew': {'dimension': 'skew'}}, tooltip_style={'opacity': 0.9}, x=array([1975., 2004., 2004., 2004., 2004., 2004., 2000., 2000., 2000.,\n",
       "       2000., 2000., 2000., 1999., 1980., 2000., 2000., 1997., 2000.,\n",
       "       2000., 1976., 2000., 1980., 1994., 2001., 2001., 2000., 2000.,\n",
       "       2000., 2000., 2000., 2000., 2000., 1993., 1970., 1970., 2001.,\n",
       "       2001., 2000., 2000., 2000., 2000., 2000., 2000., 2000., 2000.,\n",
       "       2001., 1977., 2000., 2000., 2000., 2000., 2000., 2000., 2000.,\n",
       "       2000., 2000., 2000., 2002., 2001., 2001., 2001., 2001., 2001.,\n",
       "       2006., 2001., 1990., 1988., 1988., 1998., 1993., 1998., 1976.,\n",
       "       1981., 1995., 1988., 1890., 1988., 1995., 1993., 1894., 1995.,\n",
       "       1896., 1990., 2000., 2001., 2000., 2000., 2000., 2001., 2001.,\n",
       "       2000., 2002., 2002., 2001., 2001., 1997., 2001., 2001., 1987.,\n",
       "       1985.]), y=array([1975., 2004., 2004., 2004., 2004., 2004., 2000., 2000., 2000.,\n",
       "       2000., 2000., 2000., 1999., 1980., 2000., 2000., 1997., 2000.,\n",
       "       2000., 1976., 2000., 1980., 1994., 2001., 2001., 2000., 2000.,\n",
       "       2000., 2000., 2000., 2000., 2000., 1993., 1972., 1970., 2001.,\n",
       "       2001., 2000., 2000., 2000., 2000., 2000., 2000., 2000., 2000.,\n",
       "       2001., 1996., 2000., 2000., 2000., 2000., 2000., 2000., 2000.,\n",
       "       2000., 2000., 2000., 2002., 2001., 2001., 2001., 2001., 2001.,\n",
       "       2006., 2001., 2000., 1988., 1988., 1998., 1993., 1998., 1976.,\n",
       "       1981., 1995., 1988., 1988., 1988., 1995., 1993., 1988., 1995.,\n",
       "       2000., 1996., 2000., 2001., 2000., 2000., 2000., 2001., 2001.,\n",
       "       2000., 2002., 2002., 2001., 2001., 1997., 2001., 2001., 1987.,\n",
       "       1985.]))], scale_x=LinearScale(allow_padding=False, max=1.0, min=0.0), scale_y=LinearScale(allow_padding=False, max=1.0, min=0.0))"
      ]
     },
     "metadata": {},
     "output_type": "display_data"
    },
    {
     "data": {
      "application/vnd.jupyter.widget-view+json": {
       "model_id": "7aedbff7c60f46d998ef67a32d5bb010",
       "version_major": 2,
       "version_minor": 0
      },
      "text/html": [
       "<p>Failed to display Jupyter Widget of type <code>Label</code>.</p>\n",
       "<p>\n",
       "  If you're reading this message in the Jupyter Notebook or JupyterLab Notebook, it may mean\n",
       "  that the widgets JavaScript is still loading. If this message persists, it\n",
       "  likely means that the widgets JavaScript library is either not installed or\n",
       "  not enabled. See the <a href=\"https://ipywidgets.readthedocs.io/en/stable/user_install.html\">Jupyter\n",
       "  Widgets Documentation</a> for setup instructions.\n",
       "</p>\n",
       "<p>\n",
       "  If you're reading this message in another frontend (for example, a static\n",
       "  rendering on GitHub or <a href=\"https://nbviewer.jupyter.org/\">NBViewer</a>),\n",
       "  it may mean that your frontend doesn't currently support widgets.\n",
       "</p>\n"
      ],
      "text/plain": [
       "Label(value='The total square footage:  13551887')"
      ]
     },
     "metadata": {},
     "output_type": "display_data"
    }
   ],
   "source": [
    "x_sc = bqplot.LinearScale()\n",
    "y_sc = bqplot.LinearScale()\n",
    "\n",
    "x_ax = bqplot.Axis(scale = x_sc, label = 'Year Constructed')\n",
    "y_ax = bqplot.Axis(scale = y_sc, label = 'Year Acquired',\n",
    "                  orientation = 'vertical')\n",
    "\n",
    "scatters = bqplot.Scatter(x = buildings['Year Constructed'][:100],\n",
    "                          y = buildings['Year Acquired'][:100],\n",
    "                          scales = {'x': x_sc, 'y': y_sc},\n",
    "                          sizes = 0.5)\n",
    "\n",
    "selector = bqplot.interacts.FastIntervalSelector(\n",
    "    scale = x_sc, marks = [scatters])\n",
    "\n",
    "ls = bqplot.interacts.LassoSelector(scales = {'x': x_sc, 'y': y_sc},\n",
    "                                   marks = [scatters])\n",
    "\n",
    "fig = bqplot.Figure(marks = [scatters], axes = [x_ax, y_ax],\n",
    "                   interaction = ls)\n",
    "display(fig, label);"
   ]
  },
  {
   "cell_type": "code",
   "execution_count": 216,
   "metadata": {},
   "outputs": [
    {
     "data": {
      "text/plain": [
       "[{'indices': [13, 21, 66, 67, 72, 74, 76, 98, 99], 'lasso_name': 'l1'},\n",
       " {'indices': [16, 22, 32, 46, 68, 69, 70, 73, 77, 78, 80, 82, 95],\n",
       "  'lasso_name': 'l2'},\n",
       " {'indices': [0, 33, 34], 'lasso_name': 'l3'}]"
      ]
     },
     "execution_count": 216,
     "metadata": {},
     "output_type": "execute_result"
    }
   ],
   "source": [
    "scatters.selected"
   ]
  },
  {
   "cell_type": "code",
   "execution_count": 217,
   "metadata": {},
   "outputs": [
    {
     "data": {
      "text/html": [
       "<div>\n",
       "<style scoped>\n",
       "    .dataframe tbody tr th:only-of-type {\n",
       "        vertical-align: middle;\n",
       "    }\n",
       "\n",
       "    .dataframe tbody tr th {\n",
       "        vertical-align: top;\n",
       "    }\n",
       "\n",
       "    .dataframe thead th {\n",
       "        text-align: right;\n",
       "    }\n",
       "</style>\n",
       "<table border=\"1\" class=\"dataframe\">\n",
       "  <thead>\n",
       "    <tr style=\"text-align: right;\">\n",
       "      <th></th>\n",
       "      <th>Agency Name</th>\n",
       "      <th>Location Name</th>\n",
       "      <th>Address</th>\n",
       "      <th>City</th>\n",
       "      <th>Zip code</th>\n",
       "      <th>County</th>\n",
       "      <th>Congress Dist</th>\n",
       "      <th>Congressional Full Name</th>\n",
       "      <th>Rep Dist</th>\n",
       "      <th>Rep Full Name</th>\n",
       "      <th>...</th>\n",
       "      <th>Bldg Status</th>\n",
       "      <th>Year Acquired</th>\n",
       "      <th>Year Constructed</th>\n",
       "      <th>Square Footage</th>\n",
       "      <th>Total Floors</th>\n",
       "      <th>Floors Above Grade</th>\n",
       "      <th>Floors Below Grade</th>\n",
       "      <th>Usage Description</th>\n",
       "      <th>Usage Description 2</th>\n",
       "      <th>Usage Description 3</th>\n",
       "    </tr>\n",
       "  </thead>\n",
       "  <tbody>\n",
       "    <tr>\n",
       "      <th>0</th>\n",
       "      <td>Department of Natural Resources</td>\n",
       "      <td>Anderson Lake Conservation Area - Fulton County</td>\n",
       "      <td>Anderson Lake C.a.</td>\n",
       "      <td>Astoria</td>\n",
       "      <td>61501</td>\n",
       "      <td>Fulton</td>\n",
       "      <td>17</td>\n",
       "      <td>Cheri Bustos</td>\n",
       "      <td>93</td>\n",
       "      <td>Hammond Norine K.</td>\n",
       "      <td>...</td>\n",
       "      <td>In Use</td>\n",
       "      <td>1975.0</td>\n",
       "      <td>1975.0</td>\n",
       "      <td>144</td>\n",
       "      <td>1</td>\n",
       "      <td>1</td>\n",
       "      <td>0</td>\n",
       "      <td>Unusual</td>\n",
       "      <td>Unusual</td>\n",
       "      <td>Not provided</td>\n",
       "    </tr>\n",
       "    <tr>\n",
       "      <th>33</th>\n",
       "      <td>Governors State University</td>\n",
       "      <td>Governors State University - Will County</td>\n",
       "      <td>Governor's Hwy &amp; Univ Pkwy</td>\n",
       "      <td>University Park</td>\n",
       "      <td>60466</td>\n",
       "      <td>Will</td>\n",
       "      <td>3</td>\n",
       "      <td>Daniel William Lipinski</td>\n",
       "      <td>85</td>\n",
       "      <td>Connor John</td>\n",
       "      <td>...</td>\n",
       "      <td>In Use</td>\n",
       "      <td>1972.0</td>\n",
       "      <td>1970.0</td>\n",
       "      <td>11000</td>\n",
       "      <td>3</td>\n",
       "      <td>2</td>\n",
       "      <td>1</td>\n",
       "      <td>Education</td>\n",
       "      <td>Education</td>\n",
       "      <td>Not provided</td>\n",
       "    </tr>\n",
       "    <tr>\n",
       "      <th>34</th>\n",
       "      <td>Governors State University</td>\n",
       "      <td>Governors State University - Will County</td>\n",
       "      <td>Governor's Hwy &amp; Univ Pkwy</td>\n",
       "      <td>University Park</td>\n",
       "      <td>60466</td>\n",
       "      <td>Will</td>\n",
       "      <td>3</td>\n",
       "      <td>Daniel William Lipinski</td>\n",
       "      <td>85</td>\n",
       "      <td>Connor John</td>\n",
       "      <td>...</td>\n",
       "      <td>In Use</td>\n",
       "      <td>1970.0</td>\n",
       "      <td>1970.0</td>\n",
       "      <td>10000</td>\n",
       "      <td>2</td>\n",
       "      <td>2</td>\n",
       "      <td>0</td>\n",
       "      <td>Storage</td>\n",
       "      <td>Storage</td>\n",
       "      <td>Not provided</td>\n",
       "    </tr>\n",
       "  </tbody>\n",
       "</table>\n",
       "<p>3 rows × 22 columns</p>\n",
       "</div>"
      ],
      "text/plain": [
       "                        Agency Name  \\\n",
       "0   Department of Natural Resources   \n",
       "33       Governors State University   \n",
       "34       Governors State University   \n",
       "\n",
       "                                      Location Name  \\\n",
       "0   Anderson Lake Conservation Area - Fulton County   \n",
       "33         Governors State University - Will County   \n",
       "34         Governors State University - Will County   \n",
       "\n",
       "                       Address             City  Zip code  County  \\\n",
       "0           Anderson Lake C.a.          Astoria     61501  Fulton   \n",
       "33  Governor's Hwy & Univ Pkwy  University Park     60466    Will   \n",
       "34  Governor's Hwy & Univ Pkwy  University Park     60466    Will   \n",
       "\n",
       "    Congress Dist  Congressional Full Name  Rep Dist      Rep Full Name  \\\n",
       "0              17             Cheri Bustos        93  Hammond Norine K.   \n",
       "33              3  Daniel William Lipinski        85        Connor John   \n",
       "34              3  Daniel William Lipinski        85        Connor John   \n",
       "\n",
       "           ...          Bldg Status Year Acquired Year Constructed  \\\n",
       "0          ...               In Use        1975.0           1975.0   \n",
       "33         ...               In Use        1972.0           1970.0   \n",
       "34         ...               In Use        1970.0           1970.0   \n",
       "\n",
       "    Square Footage  Total Floors  Floors Above Grade  Floors Below Grade  \\\n",
       "0              144             1                   1                   0   \n",
       "33           11000             3                   2                   1   \n",
       "34           10000             2                   2                   0   \n",
       "\n",
       "    Usage Description  Usage Description 2 Usage Description 3  \n",
       "0             Unusual              Unusual        Not provided  \n",
       "33          Education            Education        Not provided  \n",
       "34            Storage              Storage        Not provided  \n",
       "\n",
       "[3 rows x 22 columns]"
      ]
     },
     "execution_count": 217,
     "metadata": {},
     "output_type": "execute_result"
    }
   ],
   "source": [
    "buildings.iloc[scatters.selected[2]['indices']]"
   ]
  },
  {
   "cell_type": "code",
   "execution_count": 237,
   "metadata": {},
   "outputs": [
    {
     "data": {
      "application/vnd.jupyter.widget-view+json": {
       "model_id": "953cad7bd3dd4b02b992444acd3c1f09",
       "version_major": 2,
       "version_minor": 0
      },
      "text/html": [
       "<p>Failed to display Jupyter Widget of type <code>Figure</code>.</p>\n",
       "<p>\n",
       "  If you're reading this message in the Jupyter Notebook or JupyterLab Notebook, it may mean\n",
       "  that the widgets JavaScript is still loading. If this message persists, it\n",
       "  likely means that the widgets JavaScript library is either not installed or\n",
       "  not enabled. See the <a href=\"https://ipywidgets.readthedocs.io/en/stable/user_install.html\">Jupyter\n",
       "  Widgets Documentation</a> for setup instructions.\n",
       "</p>\n",
       "<p>\n",
       "  If you're reading this message in another frontend (for example, a static\n",
       "  rendering on GitHub or <a href=\"https://nbviewer.jupyter.org/\">NBViewer</a>),\n",
       "  it may mean that your frontend doesn't currently support widgets.\n",
       "</p>\n"
      ],
      "text/plain": [
       "Figure(axes=[Axis(label='Year Constructed', scale=LinearScale()), Axis(label='Year Acquired', orientation='vertical', scale=LinearScale())], fig_margin={'top': 60, 'bottom': 60, 'left': 60, 'right': 60}, layout=Layout(min_width='125px'), marks=[Scatter(colors=['steelblue'], interactions={'hover': 'tooltip'}, scales={'x': LinearScale(), 'y': LinearScale()}, scales_metadata={'x': {'orientation': 'horizontal', 'dimension': 'x'}, 'y': {'orientation': 'vertical', 'dimension': 'y'}, 'color': {'dimension': 'color'}, 'size': {'dimension': 'size'}, 'opacity': {'dimension': 'opacity'}, 'rotation': {'dimension': 'rotation'}, 'skew': {'dimension': 'skew'}}, tooltip=Tooltip(fields=['x']), tooltip_style={'opacity': 0.9}, x=array([1975., 2004., 2004., 2004., 2004., 2004., 2000., 2000., 2000.,\n",
       "       2000., 2000., 2000., 1999., 1980., 2000., 2000., 1997., 2000.,\n",
       "       2000., 1976., 2000., 1980., 1994., 2001., 2001., 2000., 2000.,\n",
       "       2000., 2000., 2000., 2000., 2000., 1993., 1970., 1970., 2001.,\n",
       "       2001., 2000., 2000., 2000., 2000., 2000., 2000., 2000., 2000.,\n",
       "       2001., 1977., 2000., 2000., 2000., 2000., 2000., 2000., 2000.,\n",
       "       2000., 2000., 2000., 2002., 2001., 2001., 2001., 2001., 2001.,\n",
       "       2006., 2001., 1990., 1988., 1988., 1998., 1993., 1998., 1976.,\n",
       "       1981., 1995., 1988., 1890., 1988., 1995., 1993., 1894., 1995.,\n",
       "       1896., 1990., 2000., 2001., 2000., 2000., 2000., 2001., 2001.,\n",
       "       2000., 2002., 2002., 2001., 2001., 1997., 2001., 2001., 1987.,\n",
       "       1985.]), y=array([1975., 2004., 2004., 2004., 2004., 2004., 2000., 2000., 2000.,\n",
       "       2000., 2000., 2000., 1999., 1980., 2000., 2000., 1997., 2000.,\n",
       "       2000., 1976., 2000., 1980., 1994., 2001., 2001., 2000., 2000.,\n",
       "       2000., 2000., 2000., 2000., 2000., 1993., 1972., 1970., 2001.,\n",
       "       2001., 2000., 2000., 2000., 2000., 2000., 2000., 2000., 2000.,\n",
       "       2001., 1996., 2000., 2000., 2000., 2000., 2000., 2000., 2000.,\n",
       "       2000., 2000., 2000., 2002., 2001., 2001., 2001., 2001., 2001.,\n",
       "       2006., 2001., 2000., 1988., 1988., 1998., 1993., 1998., 1976.,\n",
       "       1981., 1995., 1988., 1988., 1988., 1995., 1993., 1988., 1995.,\n",
       "       2000., 1996., 2000., 2001., 2000., 2000., 2000., 2001., 2001.,\n",
       "       2000., 2002., 2002., 2001., 2001., 1997., 2001., 2001., 1987.,\n",
       "       1985.]))], scale_x=LinearScale(allow_padding=False, max=1.0, min=0.0), scale_y=LinearScale(allow_padding=False, max=1.0, min=0.0))"
      ]
     },
     "metadata": {},
     "output_type": "display_data"
    },
    {
     "data": {
      "application/vnd.jupyter.widget-view+json": {
       "model_id": "b9787e0e24654de89f7a762507ed550f",
       "version_major": 2,
       "version_minor": 0
      },
      "text/html": [
       "<p>Failed to display Jupyter Widget of type <code>Label</code>.</p>\n",
       "<p>\n",
       "  If you're reading this message in the Jupyter Notebook or JupyterLab Notebook, it may mean\n",
       "  that the widgets JavaScript is still loading. If this message persists, it\n",
       "  likely means that the widgets JavaScript library is either not installed or\n",
       "  not enabled. See the <a href=\"https://ipywidgets.readthedocs.io/en/stable/user_install.html\">Jupyter\n",
       "  Widgets Documentation</a> for setup instructions.\n",
       "</p>\n",
       "<p>\n",
       "  If you're reading this message in another frontend (for example, a static\n",
       "  rendering on GitHub or <a href=\"https://nbviewer.jupyter.org/\">NBViewer</a>),\n",
       "  it may mean that your frontend doesn't currently support widgets.\n",
       "</p>\n"
      ],
      "text/plain": [
       "Label(value='')"
      ]
     },
     "metadata": {},
     "output_type": "display_data"
    }
   ],
   "source": [
    "x_sc = bqplot.LinearScale()\n",
    "y_sc = bqplot.LinearScale()\n",
    "\n",
    "x_ax = bqplot.Axis(scale = x_sc, label = 'Year Constructed')\n",
    "y_ax = bqplot.Axis(scale = y_sc, label = 'Year Acquired',\n",
    "                  orientation = 'vertical')\n",
    "\n",
    "tt = bqplot.Tooltip(fields = [\"x\"])\n",
    "\n",
    "scatters = bqplot.Scatter(x = buildings['Year Constructed'][:100],\n",
    "                          y = buildings['Year Acquired'][:100],\n",
    "                          scales = {'x': x_sc, 'y': y_sc},\n",
    "                          sizes = 0.5, \n",
    "                         tooltip = tt)\n",
    "ls = bqplot.interacts.LassoSelector(scales = {'x': x_sc, 'y': y_sc},\n",
    "                                   marks = [scatters])\n",
    "\n",
    "fig = bqplot.Figure(marks = [scatters], axes = [x_ax, y_ax],\n",
    "                   interaction = None)\n",
    "label = ipywidgets.Label()\n",
    "\n",
    "def change_selected(change):\n",
    "    area = 0\n",
    "    for lasso in change['new']:\n",
    "        area += buildings['Square Footage'].iloc[lasso['indices']].sum()\n",
    "    label.value = \"Total enclosed square footage %s\" % area\n",
    "scatters.observe(change_selected, 'selected')\n",
    "display(fig, label);"
   ]
  },
  {
   "cell_type": "code",
   "execution_count": 238,
   "metadata": {},
   "outputs": [],
   "source": []
  }
 ],
 "metadata": {
  "kernelspec": {
   "display_name": "Environment (conda_is590dv-default)",
   "language": "python",
   "name": "conda_is590dv-default"
  },
  "language_info": {
   "codemirror_mode": {
    "name": "ipython",
    "version": 3
   },
   "file_extension": ".py",
   "mimetype": "text/x-python",
   "name": "python",
   "nbconvert_exporter": "python",
   "pygments_lexer": "ipython3",
   "version": "3.6.4"
  }
 },
 "nbformat": 4,
 "nbformat_minor": 2
}
